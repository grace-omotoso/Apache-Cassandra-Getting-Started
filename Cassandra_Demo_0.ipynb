{
 "cells": [
  {
   "cell_type": "code",
   "execution_count": 31,
   "id": "dcd37f24-b155-44ab-89ad-1a2fa5d501ad",
   "metadata": {},
   "outputs": [],
   "source": [
    "# import cassandra python package\n",
    "import cassandra"
   ]
  },
  {
   "cell_type": "code",
   "execution_count": 32,
   "id": "d7d6062c-c101-499c-8224-1896616448dd",
   "metadata": {},
   "outputs": [],
   "source": [
    "# set up DB connection\n",
    "from cassandra.cluster import Cluster\n",
    "try:\n",
    "    cluster =  Cluster(['127.0.0.1'])\n",
    "    session = cluster.connect()\n",
    "except Exception as e:\n",
    "    print(e)"
   ]
  },
  {
   "cell_type": "code",
   "execution_count": 33,
   "id": "62a53c51-ad64-484e-898c-4cd7b74a35e9",
   "metadata": {},
   "outputs": [
    {
     "name": "stdout",
     "output_type": "stream",
     "text": [
      "Error from server: code=2200 [Invalid query] message=\"No keyspace has been specified. USE a keyspace, or explicitly specify keyspace.tablename\"\n"
     ]
    }
   ],
   "source": [
    "# Test if connection works, a No keyspace error is expected\n",
    "try:\n",
    "    session.execute(\"\"\"select * from music_library\"\"\")\n",
    "except Exception as e:\n",
    "    print(e)"
   ]
  },
  {
   "cell_type": "code",
   "execution_count": 34,
   "id": "7af7b7b5-da89-428c-99e6-44775d619dd1",
   "metadata": {},
   "outputs": [],
   "source": [
    "# Create a keyspace - same as schema or database in RDBMS\n",
    "try:\n",
    "    session.execute(\"\"\"CREATE KEYSPACE IF NOT EXISTS udacity WITH REPLICATION = \n",
    "    { 'class' : 'SimpleStrategy', 'replication_factor' : 1 }\"\"\")\n",
    "except Exception as e:\n",
    "    print(e)"
   ]
  },
  {
   "cell_type": "code",
   "execution_count": 35,
   "id": "1ed4f271-51fc-40d8-b1b3-b98bd81747cf",
   "metadata": {},
   "outputs": [],
   "source": [
    "# use the created keyspace\n",
    "try:\n",
    "    session.set_keyspace('udacity')\n",
    "except Exception as e:\n",
    "    print(e)"
   ]
  },
  {
   "cell_type": "code",
   "execution_count": 36,
   "id": "f8753c07-d4d9-40d2-99a8-efb33443a1fe",
   "metadata": {},
   "outputs": [],
   "source": [
    "# create a table\n",
    "query = \"CREATE TABLE IF NOT EXISTS music_library\"\n",
    "query+= \"(year int, artist_name text, album_name text, PRIMARY KEY (year, artist_name))\"\n",
    "try:\n",
    "    session.execute(query)\n",
    "except Exception as e:\n",
    "    print(e)"
   ]
  },
  {
   "cell_type": "code",
   "execution_count": 37,
   "id": "f6d70cfe-fd2b-4f0f-9427-4e4b5bc8e1f1",
   "metadata": {},
   "outputs": [],
   "source": [
    "# insert records into table\n",
    "query = \"INSERT INTO music_library (year, artist_name, album_name)\"\n",
    "query = query + \"VALUES(%s, %s, %s)\"\n",
    "try: \n",
    "    session.execute(query, (1970, \"The Beatles\", \"Let it Be\"))\n",
    "except Exception as e:\n",
    "    print(e)\n",
    "try: \n",
    "    session.execute(query, (1965, \"The Beatles\", \"Rubber Soul\"))\n",
    "except Exception as e:\n",
    "    print(e)"
   ]
  },
  {
   "cell_type": "code",
   "execution_count": 38,
   "id": "a271b5b1-b42a-4c49-a2d6-9dd0c7bce08a",
   "metadata": {},
   "outputs": [
    {
     "name": "stdout",
     "output_type": "stream",
     "text": [
      "Row(count=2)\n"
     ]
    }
   ],
   "source": [
    "# verify that records where inserted\n",
    "query = \"select count(*) from music_library\"\n",
    "try:\n",
    "    count = session.execute(query)\n",
    "except Exception as e:\n",
    "    print(e)\n",
    "print(count.one())"
   ]
  },
  {
   "cell_type": "code",
   "execution_count": 39,
   "id": "4074d4fc-a2f6-4a7d-b741-c26aa3776a41",
   "metadata": {},
   "outputs": [
    {
     "name": "stdout",
     "output_type": "stream",
     "text": [
      "1970 Let it Be The Beatles\n"
     ]
    }
   ],
   "source": [
    "# perform selection on table\n",
    "query = \"select * from music_library WHERE YEAR=1970\"\n",
    "try:\n",
    "    rows = session.execute(query)\n",
    "except Exception as e:\n",
    "    print(e)\n",
    "\n",
    "for row in rows:\n",
    "    print(row.year, row.album_name, row.artist_name)"
   ]
  },
  {
   "cell_type": "code",
   "execution_count": 40,
   "id": "9c451c3e-ac40-489d-aa39-c86229d69495",
   "metadata": {},
   "outputs": [],
   "source": [
    "# Drop the table just for housekeeping - Use this with discretion on a live table\n",
    "query = \"drop table music_library\"\n",
    "try:\n",
    "    rows= session.execute(query)\n",
    "except Exception as e:\n",
    "    print(e)"
   ]
  },
  {
   "cell_type": "code",
   "execution_count": 42,
   "id": "a2e6de55-e8e4-477a-9c93-a5e53adcf22e",
   "metadata": {},
   "outputs": [],
   "source": [
    "# close session and cluster connection\n",
    "session.shutdown()\n",
    "cluster.shutdown()"
   ]
  },
  {
   "cell_type": "code",
   "execution_count": null,
   "id": "1364364b-0f66-4aa9-bbcc-1a232089a413",
   "metadata": {},
   "outputs": [],
   "source": []
  }
 ],
 "metadata": {
  "kernelspec": {
   "display_name": "Python 3 (ipykernel)",
   "language": "python",
   "name": "python3"
  },
  "language_info": {
   "codemirror_mode": {
    "name": "ipython",
    "version": 3
   },
   "file_extension": ".py",
   "mimetype": "text/x-python",
   "name": "python",
   "nbconvert_exporter": "python",
   "pygments_lexer": "ipython3",
   "version": "3.11.7"
  }
 },
 "nbformat": 4,
 "nbformat_minor": 5
}
